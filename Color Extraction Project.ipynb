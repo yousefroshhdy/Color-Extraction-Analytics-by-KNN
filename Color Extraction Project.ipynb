{
 "cells": [
  {
   "cell_type": "code",
   "execution_count": null,
   "id": "c16c2f46",
   "metadata": {
    "pycharm": {
     "is_executing": true
    }
   },
   "outputs": [],
   "source": [
    "centerdf = pd.DataFrame(model.cluster_centers_ )\n",
    "centerscale = Normalizer()\n",
    "centerscale = centerscale.fit_transform(centerdf)\n",
    "centerscale = pd.DataFrame(centerscale)\n",
    "c = list(centerscale[1])\n",
    "c = np.array(c)\n",
    "\n"
   ]
  },
  {
   "cell_type": "code",
   "execution_count": null,
   "id": "30fe0044",
   "metadata": {},
   "outputs": [],
   "source": [
    "from matplotlib import pyplot as plt\n",
    "import pandas as pd\n",
    "from io import StringIO\n",
    "\n",
    "df_str = '''    paint_color count\n",
    "0   black       4821\n",
    "1   blue        2850\n",
    "2   brown       784\n",
    "3   custom      755\n",
    "4   green       887\n",
    "5   grey        3221\n",
    "6   orange      144\n",
    "7   purple      66\n",
    "8   red         2858\n",
    "9   silver      4034\n",
    "10  white       6096\n",
    "11  yellow      127'''\n",
    "\n",
    "df = pd.read_csv(StringIO(df_str), delim_whitespace=True)\n",
    "\n",
    "\n",
    "colors = ({'custom': 'turquoise', 'black': 'black', 'blue': 'blue', 'brown': 'brown', 'green': 'green',\n",
    "           'grey': 'grey', 'orange': 'orange', 'purple': 'purple', 'red': 'red', 'silver': 'silver',\n",
    "           'white': 'antiquewhite', 'yellow': 'yellow'})\n",
    "\n",
    "df.set_index('paint_color').plot(kind='pie', y='count', figsize=(15, 15), fontsize=14,\n",
    "                                 colors=[colors[p] for p in df['paint_color']])\n",
    "plt.show()"
   ]
  },
  {
   "cell_type": "code",
   "execution_count": null,
   "id": "56bc3c13",
   "metadata": {},
   "outputs": [],
   "source": [
    "clus_list\n",
    "rgb_list = []\n",
    "val = []\n",
    "\n",
    "for i in range(k) :\n",
    "    \n",
    "    \n",
    "    val.append(np.array\n",
    "               \n",
    "    ([\n",
    "    np.mean(clus_list[i][\"R\"]),\n",
    "    np.mean(clus_list[i][\"G\"]),\n",
    "    np.mean(clus_list[i][\"B\"]),\n",
    "    np.mean(clus_list[i][\"A\"])\n",
    "    ]\n",
    "    )\n",
    "    )\n",
    "\n",
    "val"
   ]
  },
  {
   "cell_type": "markdown",
   "id": "c9d5fd58",
   "metadata": {},
   "source": [
    "\n",
    "clus_list[1] = clus_list[1].drop([\"cluster\"], axis = \"columns\")\n",
    "\n",
    "clus_list[1][\"R\"]"
   ]
  },
  {
   "cell_type": "markdown",
   "id": "c74fdf41",
   "metadata": {},
   "source": [
    "''''from tkinter import *\n",
    "from PIL import Image,ImageTk\n",
    "\n",
    "#Create an instance of tkinter frame\n",
    "win = Tk()\n",
    "\n",
    "#Set the geometry of tkinter frame\n",
    "win.geometry(\"750x270\")\n",
    "\n",
    "#Create a canvas\n",
    "canvas= Canvas(win, width= 600, height= 400)\n",
    "canvas.pack()\n",
    "\n",
    "#Load an image in the script\n",
    "img= (Image.open(\"close-up-smiley-woman-wearing-hijab_23-2149226627.jpg-2-2.png\"))\n",
    "\n",
    "#Resize the Image using resize method\n",
    "\n",
    "resized_image= img.resize((300,205), Image.ANTIALIAS)\n",
    "new_image= ImageTk.PhotoImage(resized_image)\n",
    "\n",
    "#Add image to the Canvas Items\n",
    "\n",
    "canvas.create_image(10,10, anchor=NW, image=new_image)\n",
    "\n",
    "\n",
    "\n",
    "win.mainloop()"
   ]
  },
  {
   "cell_type": "code",
   "execution_count": null,
   "id": "d88cd7f0",
   "metadata": {},
   "outputs": [],
   "source": [
    "#plt.imshow(RGB_img)\n",
    "#plt.show()"
   ]
  },
  {
   "cell_type": "markdown",
   "id": "244e34fb",
   "metadata": {},
   "source": [
    "plt.imshow(im)\n",
    "plt.show()"
   ]
  },
  {
   "cell_type": "code",
   "execution_count": 264,
   "id": "036a3fba",
   "metadata": {},
   "outputs": [],
   "source": [
    "import pandas as pd\n",
    "import numpy as np\n",
    "import matplotlib.pyplot as plt\n",
    "import matplotlib\n",
    "from sklearn.preprocessing import MinMaxScaler\n",
    "from sklearn.linear_model import LinearRegression\n",
    "from sklearn.model_selection import train_test_split\n",
    "from sklearn.metrics import mean_absolute_error\n",
    "from sklearn.metrics import mean_squared_error\n",
    "from sklearn.metrics import accuracy_score\n",
    "from sklearn.metrics import median_absolute_error\n",
    "from sklearn.metrics import classification_report, confusion_matrix\n",
    "from sklearn import preprocessing\n",
    "from sklearn.preprocessing import Normalizer\n",
    "from sklearn.preprocessing import Binarizer\n",
    "from sklearn.preprocessing import StandardScaler\n",
    "from sklearn.impute import SimpleImputer\n",
    "from sklearn import datasets\n",
    "from sklearn.model_selection import train_test_split\n",
    "from sklearn.naive_bayes import GaussianNB\n",
    "from sklearn.neighbors import KNeighborsClassifier\n",
    "from sklearn import svm\n",
    "from sklearn.inspection import DecisionBoundaryDisplay\n",
    "from sklearn.svm import SVR\n",
    "from math import sqrt\n",
    "from sklearn.tree import DecisionTreeClassifier , plot_tree\n",
    "import seaborn as sns\n",
    "from sklearn.cluster import KMeans\n",
    "from sklearn import decomposition\n",
    "import cv2\n",
    "from PIL import Image\n",
    "import skimage.color \n",
    "import matplotlib.colors as colors\n",
    "from skimage import io"
   ]
  },
  {
   "cell_type": "code",
   "execution_count": 292,
   "id": "df83d240",
   "metadata": {},
   "outputs": [],
   "source": [
    "#image = Image.open(\"close-up-smiley-woman-wearing-hijab_23-2149226627.jpg-2-2.png\")\n",
    "#img_array = np.array(image)\n",
    "#df = pd.DataFrame(img_array.reshape(-1, 4), columns=[\"R\", \"G\", \"B\", \"A\"])\n",
    "\n",
    "\n",
    "\n",
    "\n",
    "\n",
    "\n",
    "\n",
    "image = cv2.imread(\"RArtpOd.png.jpeg\")\n",
    "im = cv2.resize(image, (500,500))\n",
    "RGB_img = cv2.cvtColor(im, cv2.COLOR_BGR2RGB)\n",
    "\n",
    "\n",
    "\n"
   ]
  },
  {
   "cell_type": "code",
   "execution_count": 294,
   "id": "af3aafb0",
   "metadata": {},
   "outputs": [],
   "source": [
    "img_array = np.array(RGB_img)\n",
    "df = pd.DataFrame(img_array.reshape(-1 , 4), columns=[\"R\", \"G\", \"B\", \"A\"])"
   ]
  },
  {
   "cell_type": "code",
   "execution_count": 296,
   "id": "45afe8a4",
   "metadata": {},
   "outputs": [
    {
     "name": "stdout",
     "output_type": "stream",
     "text": [
      "input k factor5\n"
     ]
    }
   ],
   "source": [
    "k = int(input(\"input k factor\"))\n",
    "\n",
    "model = KMeans(n_clusters=k,max_iter=500,n_init=100,random_state = 11)\n",
    "filla = model.fit_predict(df[[\"R\",\"G\",\"B\",\"A\"]])\n",
    "df[\"cluster\"] = filla"
   ]
  },
  {
   "cell_type": "code",
   "execution_count": 297,
   "id": "5fe1e110",
   "metadata": {},
   "outputs": [
    {
     "data": {
      "text/plain": [
       "[array([138.1,  61.1,  48.7, 138.9]),\n",
       " array([130. , 135.5, 136.5, 129.7]),\n",
       " array([176.8, 170.1, 169.5, 176.6]),\n",
       " array([37.7, 42.9, 41.4, 37.5]),\n",
       " array([69.3, 89.1, 94.4, 69.2])]"
      ]
     },
     "execution_count": 297,
     "metadata": {},
     "output_type": "execute_result"
    }
   ],
   "source": [
    "clus_list = []\n",
    "\n",
    "for i in range(k) :\n",
    "    if k == 0 :\n",
    "        continue\n",
    "        \n",
    "        \n",
    "    clus_list.append(df[df[\"cluster\"] == i])\n",
    "    \n",
    "    clus_list\n",
    "rgb_list = []\n",
    "val = []\n",
    "count_clus = []\n",
    "\n",
    "for i in range(k) :\n",
    "    \n",
    "\n",
    "    val.append(np.array\n",
    "    (\n",
    "    [\n",
    "    np.mean(clus_list[i][\"R\"]),\n",
    "    np.mean(clus_list[i][\"G\"]),\n",
    "    np.mean(clus_list[i][\"B\"]),\n",
    "    np.mean(clus_list[i][\"A\"])\n",
    "    ]\n",
    "        \n",
    "    )\n",
    "    )\n",
    "    \n",
    "    count_clus.append(len(clus_list[i]))\n",
    "\n",
    "    \n",
    "val\n"
   ]
  },
  {
   "cell_type": "code",
   "execution_count": 298,
   "id": "c955d588",
   "metadata": {},
   "outputs": [
    {
     "data": {
      "text/plain": [
       "[14524, 48738, 40402, 38409, 45427]"
      ]
     },
     "execution_count": 298,
     "metadata": {},
     "output_type": "execute_result"
    }
   ],
   "source": [
    "count_clus"
   ]
  },
  {
   "cell_type": "code",
   "execution_count": 299,
   "id": "7b78761b",
   "metadata": {},
   "outputs": [],
   "source": [
    "countscale = StandardScaler()\n",
    "countscale = countscale.fit_transform([count_clus])\n"
   ]
  },
  {
   "cell_type": "code",
   "execution_count": 305,
   "id": "8dee8342",
   "metadata": {
    "scrolled": false
   },
   "outputs": [
    {
     "data": {
      "text/html": [
       "<div>\n",
       "<style scoped>\n",
       "    .dataframe tbody tr th:only-of-type {\n",
       "        vertical-align: middle;\n",
       "    }\n",
       "\n",
       "    .dataframe tbody tr th {\n",
       "        vertical-align: top;\n",
       "    }\n",
       "\n",
       "    .dataframe thead th {\n",
       "        text-align: right;\n",
       "    }\n",
       "</style>\n",
       "<table border=\"1\" class=\"dataframe\">\n",
       "  <thead>\n",
       "    <tr style=\"text-align: right;\">\n",
       "      <th></th>\n",
       "      <th>density</th>\n",
       "      <th>color</th>\n",
       "    </tr>\n",
       "  </thead>\n",
       "  <tbody>\n",
       "    <tr>\n",
       "      <th>0</th>\n",
       "      <td>14524</td>\n",
       "      <td>#bd3a26</td>\n",
       "    </tr>\n",
       "    <tr>\n",
       "      <th>1</th>\n",
       "      <td>48738</td>\n",
       "      <td>#b0bfc2</td>\n",
       "    </tr>\n",
       "    <tr>\n",
       "      <th>2</th>\n",
       "      <td>40402</td>\n",
       "      <td>#fcfcfc</td>\n",
       "    </tr>\n",
       "    <tr>\n",
       "      <th>3</th>\n",
       "      <td>38409</td>\n",
       "      <td>#1a1a1a</td>\n",
       "    </tr>\n",
       "    <tr>\n",
       "      <th>4</th>\n",
       "      <td>45427</td>\n",
       "      <td>#4d6c78</td>\n",
       "    </tr>\n",
       "  </tbody>\n",
       "</table>\n",
       "</div>"
      ],
      "text/plain": [
       "   density    color\n",
       "0    14524  #bd3a26\n",
       "1    48738  #b0bfc2\n",
       "2    40402  #fcfcfc\n",
       "3    38409  #1a1a1a\n",
       "4    45427  #4d6c78"
      ]
     },
     "execution_count": 305,
     "metadata": {},
     "output_type": "execute_result"
    }
   ],
   "source": [
    "final  = pd.DataFrame(model.cluster_centers_)\n",
    "fscale = MinMaxScaler(feature_range=(0.1,0.99))\n",
    "\n",
    "np.set_printoptions(precision=1)\n",
    "final = fscale.fit_transform(final)\n",
    "\n",
    "\n",
    "\n",
    "final  = pd.DataFrame(final ,columns = [\"R\",\"G\",\"B\",\"A\"])\n",
    "\n",
    "\n",
    "\n",
    "lili =[]\n",
    "for i in range(k) :\n",
    "    lili.append(tuple(final.iloc[i]))\n",
    "\n",
    "final\n",
    "dense = pd.DataFrame(count_clus , columns = [\"density\"])\n",
    "dense\n",
    " \n",
    "col = []\n",
    "for d in lili :\n",
    "    col.append(matplotlib.colors.rgb2hex(d))\n",
    "    \n",
    "col\n",
    "\n",
    "dense[\"color\"] = col\n",
    "dense\n",
    "    "
   ]
  },
  {
   "cell_type": "code",
   "execution_count": 303,
   "id": "4dd4c38c",
   "metadata": {
    "scrolled": true
   },
   "outputs": [
    {
     "data": {
      "text/plain": [
       "<AxesSubplot:ylabel='density'>"
      ]
     },
     "execution_count": 303,
     "metadata": {},
     "output_type": "execute_result"
    },
    {
     "data": {
      "image/png": "[encoded data removed]",
      "text/plain": [
       "<Figure size 500x500 with 1 Axes>"
      ]
     },
     "metadata": {},
     "output_type": "display_data"
    }
   ],
   "source": [
    "cluster_colors = [matplotlib.colors.rgb2hex(c) for c in lili]\n",
    "dense.set_index(\"color\").plot(kind='pie', y='density', figsize=(5, 5), fontsize=14,\n",
    "                                 colors=cluster_colors)\n",
    "\n"
   ]
  },
  {
   "cell_type": "code",
   "execution_count": 306,
   "id": "2eac2100",
   "metadata": {},
   "outputs": [
    {
     "data": {
      "image/png": "[encoded data removed]",
      "text/plain": [
       "<Figure size 1500x1500 with 1 Axes>"
      ]
     },
     "metadata": {},
     "output_type": "display_data"
    }
   ],
   "source": [
    "label_indx = np.arange(0,len(np.unique(model.labels_)) + 1)\n",
    "np.histogram(model.labels_ , bins  = label_indx)\n",
    "hist_bar = np.zeros((50, 300, 3), dtype = \"uint8\") \n",
    "startX = 0\n",
    "\n",
    "(hist, _) = np.histogram(model.labels_, bins = label_indx)\n",
    "# normalize the histogram, such that it sums to one\n",
    "hist = hist.astype(\"float\")\n",
    "\n",
    "hist /= hist.sum() # normalize the points so they sum to 1, we would like to have a proportion\n",
    "hist # how much of each paint you would need by proportion. But how to know which measure is which color?\n",
    "\n",
    "for (percent, color) in zip(hist,  model.cluster_centers_): \n",
    "  endX = startX + (percent * 300) # to match grid\n",
    "  cv2.rectangle(hist_bar, (int(startX), 0), (int(endX), 50),\n",
    "      color.astype(\"uint8\").tolist(), -1)\n",
    "  startX = endX\n",
    "\n",
    "plt. figure (figsize= (15, 15)) \n",
    "plt.subplot (122) \n",
    "plt.imshow (hist_bar)\n",
    "plt.show ()\n"
   ]
  },
  {
   "cell_type": "code",
   "execution_count": null,
   "id": "1da507d6",
   "metadata": {},
   "outputs": [],
   "source": [
    "image = cv2.imread(\"RArtpOd.png.jpeg\")\n",
    "im = cv2.resize(image, (500,500))\n",
    "RGB_img = cv2.cvtColor(im, cv2.COLOR_BGR2RGB)\n",
    "\n",
    "\n",
    "\n",
    "img_array = np.array(RGB_img)\n",
    "df = pd.DataFrame(img_array.reshape(-1 , 4), columns=[\"R\", \"G\", \"B\", \"A\"])\n",
    "\n",
    "k = int(input(\"input k factor\"))\n",
    "\n",
    "model = KMeans(n_clusters=k,max_iter=500,n_init=100,random_state = 11)\n",
    "filla = model.fit_predict(df[[\"R\",\"G\",\"B\",\"A\"]])\n",
    "df[\"cluster\"] = filla\n",
    "\n",
    "\n",
    "clus_list = []\n",
    "\n",
    "for i in range(k) :\n",
    "    if k == 0 :\n",
    "        continue\n",
    "        \n",
    "        \n",
    "    clus_list.append(df[df[\"cluster\"] == i])\n",
    "    \n",
    "    clus_list\n",
    "rgb_list = []\n",
    "val = []\n",
    "count_clus = []\n",
    "\n",
    "for i in range(k) :\n",
    "    \n",
    "\n",
    "    val.append(np.array\n",
    "    (\n",
    "        \n",
    "    [\n",
    "    np.mean(clus_list[i][\"R\"]),\n",
    "    np.mean(clus_list[i][\"G\"]),\n",
    "    np.mean(clus_list[i][\"B\"]),\n",
    "    np.mean(clus_list[i][\"A\"])\n",
    "    ]\n",
    "        \n",
    "    )\n",
    "    )\n",
    "    \n",
    "    count_clus.append(len(clus_list[i]))\n",
    "    \n",
    "    \n",
    "countscale = StandardScaler()\n",
    "countscale = countscale.fit_transform([count_clus])\n",
    "\n",
    "\n",
    "\n",
    "final  = pd.DataFrame(model.cluster_centers_)\n",
    "fscale = MinMaxScaler(feature_range=(0.1,0.99))\n",
    "\n",
    "np.set_printoptions(precision=1)\n",
    "final = fscale.fit_transform(final)\n",
    "\n",
    "\n",
    "\n",
    "final  = pd.DataFrame(final ,columns = [\"R\",\"G\",\"B\",\"A\"])\n",
    "\n",
    "\n",
    "\n",
    "lili =[]\n",
    "for i in range(k) :\n",
    "    lili.append(tuple(final.iloc[i]))\n",
    "\n",
    "\n",
    "dense = pd.DataFrame(count_clus , columns = [\"density\"])\n",
    "\n",
    " \n",
    "col = []\n",
    "for d in lili :\n",
    "    col.append(matplotlib.colors.rgb2hex(d))\n",
    "    \n",
    "\n",
    "\n",
    "dense[\"color\"] = col\n",
    "\n",
    "cluster_colors = [matplotlib.colors.rgb2hex(c) for c in lili]\n",
    "dense.set_index(\"color\").plot(kind='pie', y='density', figsize=(5, 5), fontsize=14,\n",
    "                                 colors=cluster_colors)\n",
    "\n",
    "\n",
    "    \n",
    "    \n",
    "\n",
    "    \n",
    "\n",
    "\n",
    "\n",
    "\n"
   ]
  }
 ],
 "metadata": {
  "kernelspec": {
   "display_name": "Python 3 (ipykernel)",
   "language": "python",
   "name": "python3"
  },
  "language_info": {
   "codemirror_mode": {
    "name": "ipython",
    "version": 3
   },
   "file_extension": ".py",
   "mimetype": "text/x-python",
   "name": "python",
   "nbconvert_exporter": "python",
   "pygments_lexer": "ipython3",
   "version": "3.9.13"
  }
 },
 "nbformat": 4,
 "nbformat_minor": 5
}
